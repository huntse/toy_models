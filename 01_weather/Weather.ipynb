{
 "cells": [
  {
   "cell_type": "markdown",
   "id": "3f6b1bd9-7d0e-460a-8b2a-30bc84187cb7",
   "metadata": {},
   "source": [
    "# Weather simulation\n",
    "\n",
    "Based on Steve Brunton's [\"Gentle introduction to modelling with matrices and vectors\"](https://www.youtube.com/watch?v=K-8F_zDMDUI&t=277s) although my code is my own. Use if you want to for whatever purpose, but it's trivial so if you're trying to learn, you will learn much more by doing it yourself so you get a handle on how to beat numpy into submission etc. For simplicity I use the same naming $\\mathbf{A}$ and $\\mathbf{x}$ and the same ordering of the states as Steve does.\n",
    "\n",
    "## Purpose of the model\n",
    "\n",
    "The model is intended to retreive the probability of the weather being in one of 3 states (\"rainy\", \"cloudy\", or \"nice\") on a given day. It is intended as an educational example to show how to build a basic probabilistic model using matrices in python. \n",
    "\n",
    "## Spec\n",
    "The basis of the model is a state transition matrix $\\mathbf{A}$ which, given a state today, gives the probabilities of transition to all the possible states tomorrow.  \n",
    "\n",
    "In this model, weather can have 3 states, \"rainy\", \"nice\" or \"cloudy\", and the state transition probabilities are given by $$\\mathbf{A} = \\begin{pmatrix} 0.5 & 0.5 & 0.25\\\\ 0.25 & 0 & 0.25\\\\ 0.25 & 0.5 & 0.5 \\end{pmatrix}$$\n",
    "\n",
    "On day $t$, the probability of weather tomorrow is $\\mathbf{x}_{t+1} = \\mathbf{A} \\cdot \\mathbf{x}_t$. Probabalistic models of this type are known as [Markov State Models](https://pmc.ncbi.nlm.nih.gov/articles/PMC2933958/) or _MSMs_."
   ]
  },
  {
   "cell_type": "code",
   "execution_count": 1,
   "id": "ed51ef88-e97d-45b8-a9aa-9dea7238c193",
   "metadata": {},
   "outputs": [
    {
     "name": "stdout",
     "output_type": "stream",
     "text": [
      "t= 0: tomorrow: [0.5  0.25 0.25]\n",
      "t= 1: tomorrow: [0.4375 0.1875 0.375 ]\n",
      "t= 2: tomorrow: [0.40625  0.203125 0.390625]\n",
      "t= 3: tomorrow: [0.40234375 0.19921875 0.3984375 ]\n",
      "t= 4: tomorrow: [0.40039062 0.20019531 0.39941406]\n",
      "t= 5: tomorrow: [0.40014648 0.19995117 0.39990234]\n",
      "t= 6: tomorrow: [0.40002441 0.20001221 0.39996338]\n",
      "t= 7: tomorrow: [0.40000916 0.19999695 0.3999939 ]\n",
      "t= 8: tomorrow: [0.40000153 0.20000076 0.39999771]\n",
      "t= 9: tomorrow: [0.40000057 0.19999981 0.39999962]\n",
      "t=10: tomorrow: [0.4000001  0.20000005 0.39999986]\n",
      "t=11: tomorrow: [0.40000004 0.19999999 0.39999998]\n",
      "t=12: tomorrow: [0.40000001 0.2        0.39999999]\n",
      "t=13: tomorrow: [0.4 0.2 0.4]\n",
      "t=14: tomorrow: [0.4 0.2 0.4]\n",
      "t=15: tomorrow: [0.4 0.2 0.4]\n",
      "t=16: tomorrow: [0.4 0.2 0.4]\n",
      "t=17: tomorrow: [0.4 0.2 0.4]\n",
      "t=18: tomorrow: [0.4 0.2 0.4]\n",
      "t=19: tomorrow: [0.4 0.2 0.4]\n",
      "t=20: tomorrow: [0.4 0.2 0.4]\n",
      "t=21: tomorrow: [0.4 0.2 0.4]\n",
      "t=22: tomorrow: [0.4 0.2 0.4]\n",
      "t=23: tomorrow: [0.4 0.2 0.4]\n",
      "t=24: tomorrow: [0.4 0.2 0.4]\n"
     ]
    }
   ],
   "source": [
    "import numpy as np\n",
    "import matplotlib.pyplot as plt\n",
    "\n",
    "# States are rainy, nice or cloudy.\n",
    "# State transitions are as follows\n",
    "A= np.array([\n",
    "    [0.5, 0.5, 0.25],\n",
    "    [0.25, 0, 0.25],\n",
    "    [0.25, 0.5, 0.5]\n",
    "    ])\n",
    "\n",
    "# inital state is known - put a 1 in whatever column you like and confirm it will\n",
    "# converge to the same steady-state probability distribution anyway.\n",
    "initial = np.array([1,0,0])\n",
    "\n",
    "#run the simulation for n days\n",
    "n=25\n",
    "x=np.zeros((3,n+1))\n",
    "\n",
    "# notice funky syntax for indexing by column as a column vector.\n",
    "# v[:,i] means 'the i-th column of v as an array'\n",
    "# v[:, [i]] means 'the i-th column of v as a column vector'\n",
    "# The slice \"[:,np.newaxis]\" is to get it to actually transpose to a real column vector.\n",
    "# Numpy transpose will just ignore you if you just try to do \n",
    "# np.transpose(np.array([1,2,3])), which is really fucking annoying imo.\n",
    "x[:,[0]]=initial[:,np.newaxis]\n",
    "for t in range(n):\n",
    "    tomorrow=A @ x[:,[t]]\n",
    "    print(f\"t={t:2d}: tomorrow: {np.transpose(tomorrow)[0]}\")\n",
    "    x[:,[t+1]] = tomorrow"
   ]
  },
  {
   "cell_type": "markdown",
   "id": "83c1d338-0e05-4653-b80a-0f99c5310f19",
   "metadata": {},
   "source": [
    "As you can see, this converges rapidly to a steady state probability distribution $p = \\begin{pmatrix} 0.4 & 0.2 & 0,4\\end{pmatrix}^T$ which is apparently a property of all Markov state transition models - that they converge to a steady state where the state transition probability is the eigenvector of $\\mathbf{A}$ corresponding to the eigenvalue of 1.  Let's confirm that"
   ]
  },
  {
   "cell_type": "code",
   "execution_count": 2,
   "id": "9b8088aa-4dca-4863-87f1-e4b1ca8442de",
   "metadata": {},
   "outputs": [
    {
     "data": {
      "text/plain": [
       "array([ 1.  ,  0.25, -0.25])"
      ]
     },
     "execution_count": 2,
     "metadata": {},
     "output_type": "execute_result"
    }
   ],
   "source": [
    "eig=np.linalg.eig(A)\n",
    "eig.eigenvalues"
   ]
  },
  {
   "cell_type": "markdown",
   "id": "6e30f889-1f1c-4ac4-8435-41c83b4a1256",
   "metadata": {},
   "source": [
    "get the first column of the matrix \"eig.eigenvectors\" which is the eigenvector corresponding to $\\lambda = 1$."
   ]
  },
  {
   "cell_type": "code",
   "execution_count": 3,
   "id": "bedd450b-d6f4-40aa-bc2c-2ad497bcf56a",
   "metadata": {},
   "outputs": [
    {
     "data": {
      "text/plain": [
       "array([-0.66666667, -0.33333333, -0.66666667])"
      ]
     },
     "execution_count": 3,
     "metadata": {},
     "output_type": "execute_result"
    }
   ],
   "source": [
    "eig.eigenvectors[:,0]"
   ]
  },
  {
   "cell_type": "markdown",
   "id": "872e19ee-3c0b-41cf-8d33-3750c2030bab",
   "metadata": {},
   "source": [
    "That doesn't look like our steady state probability, and in fact doesn't look like a probability at all given it doesn't sum to 1. That's because numpy gives normalised eigenvectors (ie for $\\mathbf{Av}=\\lambda\\mathbf{v}$ it actually returns $\\widehat{\\mathbf{v}}=\\frac{\\mathbf{v}}{|\\mathbf{v}|}$). This is obviously normally quite useful but in this specific case not so much.\n",
    "\n",
    "Steve explains how to deal with this in the matlab portion of the video. We need to normalise by dividing by the sum of the elements in the vector. Since we know that if $\\mathbf{v}$ is an eigenvector of $\\mathbf{A}$, then any vector $\\mathbf{w}=\\alpha\\mathbf{v}$ scaled by some scalar $\\alpha$ is also an eigenvector of $\\mathbf{A}$ corresponding to the same eigenvalue, clearly this will yield another eigenvector in the same direction as the $\\mathbf{v}$ but with the helpful additional property that it looks like a probability distribution because\n",
    "$$\\sum_{k=1}^n w_k = 1$$\n",
    "\n",
    "In the case where the components had mixed signs we would need to do something else because probabilities also need to be non-negative, but that isn't a problem here."
   ]
  },
  {
   "cell_type": "code",
   "execution_count": 4,
   "id": "7bbf80b7-f086-4632-a18f-f9817cd3b36a",
   "metadata": {},
   "outputs": [
    {
     "data": {
      "text/plain": [
       "array([0.4, 0.2, 0.4])"
      ]
     },
     "execution_count": 4,
     "metadata": {},
     "output_type": "execute_result"
    }
   ],
   "source": [
    "def normalise(r):\n",
    "    return r/np.sum(r)\n",
    "    \n",
    "normalise(eig.eigenvectors[:,0])"
   ]
  },
  {
   "cell_type": "markdown",
   "id": "d4679a3e-91f4-43f4-8a0a-a58f4c3fd7d0",
   "metadata": {},
   "source": [
    "Cool beans.\n",
    "\n",
    "Here's how we make a quick and dirty plot showing the convergence. Notice that once they converge, since two of the lines are on top of each other you can't see all three clearly. You could make one wider and the other somewhat transparent to fix this issue, but I can't be bothered."
   ]
  },
  {
   "cell_type": "code",
   "execution_count": 5,
   "id": "5ea8092a-cf89-4965-9fc5-2efac8e1a73c",
   "metadata": {},
   "outputs": [
    {
     "data": {
      "image/png": "[encoded data removed]",
      "text/plain": [
       "<Figure size 640x480 with 1 Axes>"
      ]
     },
     "metadata": {},
     "output_type": "display_data"
    }
   ],
   "source": [
    "fig_, ax = plt.subplots()\n",
    "plt.plot(np.transpose(x))\n",
    "plt.grid(True)\n",
    "plt.legend([\"rainy\",\"nice\",\"cloudy\"])\n",
    "plt.title(\"Probabilities of weather in Seattle on day $t$\")\n",
    "ax.set_ylabel('$p$')\n",
    "_= ax.set_xlabel(\"$t$\")"
   ]
  },
  {
   "cell_type": "markdown",
   "id": "2258c955-cfba-44d4-a991-7b5b7eeba6c7",
   "metadata": {},
   "source": [
    "# Running this notebook\n",
    "\n",
    "I run this notebook on nixos with the following `flake.nix`:\n",
    "\n",
    "```nix\n",
    "{\n",
    "  inputs = {\n",
    "    nixpkgs = {\n",
    "      url = \"github:nixos/nixpkgs/nixos-unstable\";\n",
    "    };\n",
    "    flake-utils = {\n",
    "      url = \"github:numtide/flake-utils\";\n",
    "    };\n",
    "  };\n",
    "  outputs = { nixpkgs, flake-utils, ... }: flake-utils.lib.eachDefaultSystem (system:\n",
    "    let\n",
    "      pkgs = import nixpkgs {\n",
    "        inherit system;\n",
    "      };\n",
    "    in {\n",
    "      devShell = pkgs.mkShell {\n",
    "         buildInputs = with pkgs; [\n",
    "          (python3.withPackages(ps: with ps; [\n",
    "            ipython\n",
    "            jupyter\n",
    "            numpy\n",
    "            matplotlib\n",
    "          ]))\n",
    "        ];\n",
    "        shellHook = \"jupyter notebook\";\n",
    "      };\n",
    "    }\n",
    "  );\n",
    "}\n",
    "```\n",
    "...and just doing `nix develop` to give me a reproducible python notebook environment, which is pretty swell.\n",
    "\n",
    "In general, if you just did\n",
    "\n",
    "```bash\n",
    "python -m venv .venv\n",
    "source .venv/bin/activate\n",
    "pip install ipython jupyter numpy matplotlib\n",
    "jupyter notebook\n",
    "```\n",
    "\n",
    "...it should probably work as long as your local build environment is correctly configured, which can be a bit of a  pita with numpy frankly. If this is annoying for you, check out [conda](https://anaconda.org/anaconda/conda) which a lot of people use to give themselves a \"batteries included\" python notebook env without the hassle."
   ]
  }
 ],
 "metadata": {
  "kernelspec": {
   "display_name": "Python 3 (ipykernel)",
   "language": "python",
   "name": "python3"
  },
  "language_info": {
   "codemirror_mode": {
    "name": "ipython",
    "version": 3
   },
   "file_extension": ".py",
   "mimetype": "text/x-python",
   "name": "python",
   "nbconvert_exporter": "python",
   "pygments_lexer": "ipython3",
   "version": "3.12.7"
  }
 },
 "nbformat": 4,
 "nbformat_minor": 5
}
